{
 "cells": [
  {
   "cell_type": "code",
   "execution_count": null,
   "metadata": {},
   "outputs": [],
   "source": [
    "import json\n",
    "import pandas as pd\n",
    "import urllib\n",
    "import csv\n",
    "import pymysql\n",
    "import sqlalchemy"
   ]
  },
  {
   "cell_type": "code",
   "execution_count": null,
   "metadata": {},
   "outputs": [],
   "source": [
    "# symbol = input(\"종목을 입력하세요 \")\n",
    "number = '005930'\n",
    "symbol = 'q=KRX:%s&' %number\n",
    "stdate='startdate=Jan+01+2000&'\n",
    "eddate='enddate=Mar+16+2018&'\n",
    "outtype= 'output=csv'"
   ]
  },
  {
   "cell_type": "code",
   "execution_count": null,
   "metadata": {},
   "outputs": [],
   "source": [
    "target = f'https://finance.google.co.uk/bctzjpnsun/historical?{symbol}{stdate}{eddate}{outtype}'\n",
    "print(target)\n",
    "a = urllib.request.urlretrieve(target, 'temp.csv')"
   ]
  },
  {
   "cell_type": "code",
   "execution_count": null,
   "metadata": {},
   "outputs": [],
   "source": [
    "a = urllib.request.urlretrieve(target, 'temp.csv')"
   ]
  },
  {
   "cell_type": "code",
   "execution_count": null,
   "metadata": {},
   "outputs": [],
   "source": [
    "temp = pd.read_csv('temp.csv')\n",
    "temp.head()"
   ]
  },
  {
   "cell_type": "code",
   "execution_count": null,
   "metadata": {
    "scrolled": true
   },
   "outputs": [],
   "source": [
    "import create_db"
   ]
  },
  {
   "cell_type": "code",
   "execution_count": null,
   "metadata": {},
   "outputs": [],
   "source": [
    "target = f'mysql+pymysql://{id}:{pw}@{host}/{db_name}'\n",
    "print(target)"
   ]
  },
  {
   "cell_type": "code",
   "execution_count": null,
   "metadata": {},
   "outputs": [],
   "source": [
    "\n",
    "json_data=open(\"config.json\").read()\n",
    "data = json.loads(json_data)\n",
    "\n",
    "host = data['host']\n",
    "id = data[\"db_id\"]\n",
    "pw = data['db_password']\n",
    "db_name = data['db_name']\n",
    "\n",
    "engine_target = f'mysql+pymysql://{id}:{pw}@{host}/{db_name}'\n",
    "print(engine_target)\n"
   ]
  },
  {
   "cell_type": "code",
   "execution_count": null,
   "metadata": {},
   "outputs": [],
   "source": [
    "import pymysql\n",
    "import json\n",
    "import sqlalchemy\n",
    "from sqlalchemy import create_engine\n",
    "from models import *\n",
    "from sqlalchemy.orm import sessionmaker"
   ]
  },
  {
   "cell_type": "code",
   "execution_count": null,
   "metadata": {},
   "outputs": [],
   "source": [
    "json_data=open(\"config.json\").read()\n",
    "data = json.loads(json_data)\n",
    "\n",
    "host = data['host']\n",
    "id = data[\"db_id\"]\n",
    "pw = data['db_password']\n",
    "db_name = data['db_name']"
   ]
  },
  {
   "cell_type": "code",
   "execution_count": null,
   "metadata": {},
   "outputs": [],
   "source": [
    "host[0:9]"
   ]
  },
  {
   "cell_type": "code",
   "execution_count": null,
   "metadata": {},
   "outputs": [],
   "source": [
    "import pandas as pd\n",
    "KOSPI = pd.read_excel(\"basic.xls\", sheet_name=0).to_dict()\n",
    "KOSDAQ = pd.read_excel(\"basic.xls\", sheet_name=1).to_dict()\n",
    "KOSDAQ['종목코드']"
   ]
  },
  {
   "cell_type": "code",
   "execution_count": null,
   "metadata": {},
   "outputs": [],
   "source": [
    "len(KOSPI['']"
   ]
  },
  {
   "cell_type": "code",
   "execution_count": null,
   "metadata": {},
   "outputs": [],
   "source": [
    "KOSPI = pd.read_excel(\"basic.xls\", sheet_name=0, encoding='utf8')\n",
    "KOSPI.종목코드 = KOSPI.종목코드.map('{:06d}'.format)\n",
    "KOSPI = "
   ]
  },
  {
   "cell_type": "code",
   "execution_count": null,
   "metadata": {},
   "outputs": [],
   "source": [
    "KOSDAQ = pd.read_excel(\"basic.xls\", sheet_name=1, encoding='utf8').to_dict()"
   ]
  },
  {
   "cell_type": "code",
   "execution_count": null,
   "metadata": {},
   "outputs": [],
   "source": [
    "stock_market = "
   ]
  },
  {
   "cell_type": "code",
   "execution_count": null,
   "metadata": {},
   "outputs": [],
   "source": [
    "sheet_names = wb.sheet_names()\n",
    "xl_sheet = wb.sheet_by_name(sheet_names[0])\n",
    "xl_sheet.row(0)"
   ]
  },
  {
   "cell_type": "code",
   "execution_count": 4,
   "metadata": {},
   "outputs": [],
   "source": [
    "import stock_query"
   ]
  },
  {
   "cell_type": "code",
   "execution_count": 5,
   "metadata": {
    "scrolled": false
   },
   "outputs": [
    {
     "name": "stdout",
     "output_type": "stream",
     "text": [
      " SELECT * FROM StockInfo where stock_name LIKE \"%두산%\" \n",
      "(('000150', '두산', 'KOSPI'), ('011160', '두산건설', 'KOSPI'), ('034020', '두산중공업', 'KOSPI'), ('042670', '두산인프라코어', 'KOSPI'), ('082740', '두산엔진', 'KOSPI'), ('241560', '두산밥캣', 'KOSPI'))\n"
     ]
    }
   ],
   "source": [
    "stock_query.query_all('두산')"
   ]
  },
  {
   "cell_type": "code",
   "execution_count": 4,
   "metadata": {},
   "outputs": [
    {
     "ename": "ValueError",
     "evalue": "unsupported format character '\"' (0x22) at index 47",
     "output_type": "error",
     "traceback": [
      "\u001b[1;31m---------------------------------------------------------------------------\u001b[0m",
      "\u001b[1;31mValueError\u001b[0m                                Traceback (most recent call last)",
      "\u001b[1;32m<ipython-input-4-ca142d742045>\u001b[0m in \u001b[0;36m<module>\u001b[1;34m()\u001b[0m\n\u001b[1;32m----> 1\u001b[1;33m \u001b[0mstock_query\u001b[0m\u001b[1;33m.\u001b[0m\u001b[0mquery_all\u001b[0m\u001b[1;33m(\u001b[0m\u001b[1;34m'삼성전자'\u001b[0m\u001b[1;33m)\u001b[0m\u001b[1;33m\u001b[0m\u001b[0m\n\u001b[0m",
      "\u001b[1;32mD:\\workspace\\ORM\\stock_query.py\u001b[0m in \u001b[0;36mquery_all\u001b[1;34m(stock_name)\u001b[0m\n\u001b[0;32m      8\u001b[0m \u001b[1;32mdef\u001b[0m \u001b[0mquery_all\u001b[0m\u001b[1;33m(\u001b[0m\u001b[0mstock_name\u001b[0m\u001b[1;33m)\u001b[0m\u001b[1;33m:\u001b[0m\u001b[1;33m\u001b[0m\u001b[0m\n\u001b[0;32m      9\u001b[0m     \u001b[0mcurs\u001b[0m \u001b[1;33m=\u001b[0m \u001b[0mcursor\u001b[0m\u001b[1;33m(\u001b[0m\u001b[1;33m)\u001b[0m\u001b[1;33m\u001b[0m\u001b[0m\n\u001b[1;32m---> 10\u001b[1;33m     \u001b[0msql\u001b[0m \u001b[1;33m=\u001b[0m \u001b[1;34mf'''SELECT * FROM StockInfo where stock_name LIKE %\"{stock_name}\"%'''\u001b[0m\u001b[1;33m\u001b[0m\u001b[0m\n\u001b[0m\u001b[0;32m     11\u001b[0m     \u001b[0ma\u001b[0m \u001b[1;33m=\u001b[0m \u001b[0mcurs\u001b[0m\u001b[1;33m.\u001b[0m\u001b[0mexecute\u001b[0m\u001b[1;33m(\u001b[0m\u001b[0msql\u001b[0m\u001b[1;33m)\u001b[0m\u001b[1;33m\u001b[0m\u001b[0m\n\u001b[0;32m     12\u001b[0m     \u001b[0mresult\u001b[0m \u001b[1;33m=\u001b[0m \u001b[0mcurs\u001b[0m\u001b[1;33m.\u001b[0m\u001b[0mfetchall\u001b[0m\u001b[1;33m(\u001b[0m\u001b[1;33m)\u001b[0m\u001b[1;33m\u001b[0m\u001b[0m\n",
      "\u001b[1;31mValueError\u001b[0m: unsupported format character '\"' (0x22) at index 47"
     ]
    }
   ],
   "source": [
    "stock_query.query_all('삼성전자')\n"
   ]
  },
  {
   "cell_type": "code",
   "execution_count": 15,
   "metadata": {},
   "outputs": [],
   "source": [
    "import pymysql\n",
    "import pandas as pd\n",
    "from sqlalchemy import create_engine\n",
    "from models import *\n",
    "from sqlalchemy.orm import sessionmaker\n",
    "import pandas as pd\n",
    "import datetime\n",
    "\n",
    "\n",
    "def cursor():\n",
    "    json_data=open(\"config.json\").read()\n",
    "    data = json.loads(json_data)\n",
    "\n",
    "    host = data['host']\n",
    "    id = data[\"db_id\"]\n",
    "    pw = data['db_password']\n",
    "    db_name = data['db_name']\n",
    "\n",
    "    engine_target = f'mysql+pymysql://{id}:{pw}@{host}/{db_name}?charset=utf8'\n",
    "    engine = create_engine(engine_target, encoding='utf-8')\n",
    "\n",
    "    Session = sessionmaker(bind=engine)\n",
    "    session = Session()\n",
    "\n",
    "    conn = pymysql.connect(host='localhost', port=3306, user=id, password=pw, use_unicode=True, charset='utf8')\n",
    "    conn.cursor().execute('USE %s' %db_name)\n",
    "    return conn.cursor()"
   ]
  },
  {
   "cell_type": "code",
   "execution_count": 29,
   "metadata": {},
   "outputs": [
    {
     "ename": "SyntaxError",
     "evalue": "invalid syntax (<ipython-input-29-e12d5d894910>, line 7)",
     "output_type": "error",
     "traceback": [
      "\u001b[1;36m  File \u001b[1;32m\"<ipython-input-29-e12d5d894910>\"\u001b[1;36m, line \u001b[1;32m7\u001b[0m\n\u001b[1;33m    else:\u001b[0m\n\u001b[1;37m       ^\u001b[0m\n\u001b[1;31mSyntaxError\u001b[0m\u001b[1;31m:\u001b[0m invalid syntax\n"
     ]
    }
   ],
   "source": [
    "def query_all(stock_name):\n",
    "    curs = cursor()\n",
    "    try:\n",
    "        sql = f''' SELECT * FROM StockInfo where stock_name = \"{stock_name}\" '''\n",
    "        a = curs.execute(sql)\n",
    "        result = curs.fetchone()\n",
    "    else:\n",
    "        print(\"주식명을 확인해주세요\")\n",
    "    \n",
    "    number = result[0]\n",
    "    symbol = 'q=KRX:%s&' %number\n",
    "    stdate='startdate=Jan+01+2000&'\n",
    "    eddate='enddate=Mar+16+2018&'\n",
    "    outtype= 'output=csv'\n",
    "    \n",
    "    target = f'https://finance.google.co.uk/bctzjpnsun/historical?{symbol}{stdate}{eddate}{outtype}'\n",
    "    urllib.request.urlretrieve(target, 'temp.csv')\n",
    "    pd.read_csv(\"temp.csv\")\n",
    "    \n",
    "\n",
    "    \n",
    "    return result\n",
    "    print(result)"
   ]
  },
  {
   "cell_type": "code",
   "execution_count": 27,
   "metadata": {},
   "outputs": [
    {
     "data": {
      "text/plain": [
       "'005930'"
      ]
     },
     "execution_count": 27,
     "metadata": {},
     "output_type": "execute_result"
    }
   ],
   "source": [
    "a = query_all('삼성전자')\n",
    "number = '005930'\n",
    "symbol = 'q=KRX:%s&' %number\n",
    "stdate='startdate=Jan+01+2000&'\n",
    "eddate='enddate=Mar+16+2018&'\n",
    "outtype= 'output=csv'\n",
    "\n",
    "target = f'https://finance.google.co.uk/bctzjpnsun/historical?{symbol}{stdate}{eddate}{outtype}'\n",
    "print(target)\n",
    "a = urllib.request.urlretrieve(target, 'temp.csv')\n",
    "\n",
    "\n",
    "a[0]"
   ]
  },
  {
   "cell_type": "code",
   "execution_count": null,
   "metadata": {},
   "outputs": [],
   "source": []
  }
 ],
 "metadata": {
  "kernelspec": {
   "display_name": "Python 3",
   "language": "python",
   "name": "python3"
  },
  "language_info": {
   "codemirror_mode": {
    "name": "ipython",
    "version": 3
   },
   "file_extension": ".py",
   "mimetype": "text/x-python",
   "name": "python",
   "nbconvert_exporter": "python",
   "pygments_lexer": "ipython3",
   "version": "3.6.4"
  }
 },
 "nbformat": 4,
 "nbformat_minor": 2
}
